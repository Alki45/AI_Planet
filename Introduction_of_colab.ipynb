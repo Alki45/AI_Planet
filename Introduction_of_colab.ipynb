{
  "nbformat": 4,
  "nbformat_minor": 0,
  "metadata": {
    "colab": {
      "provenance": [],
      "gpuType": "T4",
      "authorship_tag": "ABX9TyN7qA2mnQU4qW3fFmbZyFp+",
      "include_colab_link": true
    },
    "kernelspec": {
      "name": "python3",
      "display_name": "Python 3"
    },
    "language_info": {
      "name": "python"
    },
    "accelerator": "GPU"
  },
  "cells": [
    {
      "cell_type": "markdown",
      "metadata": {
        "id": "view-in-github",
        "colab_type": "text"
      },
      "source": [
        "<a href=\"https://colab.research.google.com/github/Alki45/AI_Planet/blob/Intro_to_colab/Introduction_of_colab.ipynb\" target=\"_parent\"><img src=\"https://colab.research.google.com/assets/colab-badge.svg\" alt=\"Open In Colab\"/></a>"
      ]
    },
    {
      "cell_type": "code",
      "source": [
        "# Introduction of Python With Googlecolab"
      ],
      "metadata": {
        "id": "sW9sTVxeqrjR"
      },
      "execution_count": 5,
      "outputs": []
    },
    {
      "cell_type": "code",
      "execution_count": 6,
      "metadata": {
        "id": "hUnE0g2qpRnI"
      },
      "outputs": [],
      "source": []
    },
    {
      "cell_type": "code",
      "source": [
        "print(\"Hello, DPhi! Today I have executed my very first Python program In AI Planet courses. Thanks!\")"
      ],
      "metadata": {
        "id": "ebLQdr-ip3yE",
        "colab": {
          "base_uri": "https://localhost:8080/"
        },
        "outputId": "7c054ece-ffbc-43fc-f876-5167a6e2ed77"
      },
      "execution_count": 12,
      "outputs": [
        {
          "output_type": "stream",
          "name": "stdout",
          "text": [
            "Hello, DPhi! Today I have executed my very first Python program In AI Planet courses. Thanks!\n"
          ]
        }
      ]
    },
    {
      "cell_type": "code",
      "source": [
        "# Variables, Data Types and Operators in Python"
      ],
      "metadata": {
        "id": "jMP8AKAlrw9L"
      },
      "execution_count": 14,
      "outputs": []
    },
    {
      "cell_type": "code",
      "source": [
        "x=\"Hello\""
      ],
      "metadata": {
        "id": "jYWXY4MD0DFK"
      },
      "execution_count": 15,
      "outputs": []
    },
    {
      "cell_type": "code",
      "source": [
        "Y=\"World\""
      ],
      "metadata": {
        "id": "NxYV1fBr0i-v"
      },
      "execution_count": 16,
      "outputs": []
    },
    {
      "cell_type": "code",
      "source": [
        "print(x)\n",
        "print(Y)"
      ],
      "metadata": {
        "colab": {
          "base_uri": "https://localhost:8080/"
        },
        "id": "JBDVdgU00kwg",
        "outputId": "0cc6b0d7-69a6-4a7e-f90c-650fb6f2bf5b"
      },
      "execution_count": 17,
      "outputs": [
        {
          "output_type": "stream",
          "name": "stdout",
          "text": [
            "Hello\n",
            "World\n"
          ]
        }
      ]
    },
    {
      "cell_type": "code",
      "source": [
        "# Variable Exercise"
      ],
      "metadata": {
        "id": "6H-YDiEZ0pFc"
      },
      "execution_count": 18,
      "outputs": []
    },
    {
      "cell_type": "code",
      "source": [
        "# Exercise - Coding Challenge\n",
        "#1. Consider two numbers, a = 5, b = 16. Write a Python program to print the sum of these two numbers.\n",
        "# 2. Write a Python program to take a number from the user as input and print the cube of the number."
      ],
      "metadata": {
        "id": "q7Q-Y5cx00Bh"
      },
      "execution_count": 19,
      "outputs": []
    },
    {
      "cell_type": "code",
      "source": [
        "a=5\n",
        "b=16\n",
        "summ=a+b"
      ],
      "metadata": {
        "id": "iGIbVf6H1Gk5"
      },
      "execution_count": 22,
      "outputs": []
    },
    {
      "cell_type": "code",
      "source": [
        "print(summ)"
      ],
      "metadata": {
        "colab": {
          "base_uri": "https://localhost:8080/"
        },
        "id": "8D9-RTX51LI2",
        "outputId": "5a4f4e96-3894-4e11-c875-04a3c800a863"
      },
      "execution_count": 23,
      "outputs": [
        {
          "output_type": "stream",
          "name": "stdout",
          "text": [
            "21\n"
          ]
        }
      ]
    },
    {
      "cell_type": "code",
      "source": [
        "a1=int(input(\"Enter the First number: \"))\n"
      ],
      "metadata": {
        "colab": {
          "base_uri": "https://localhost:8080/"
        },
        "id": "QILNYliq1QER",
        "outputId": "2cbaf84a-1f80-4555-9632-ecafafe3d4e6"
      },
      "execution_count": 25,
      "outputs": [
        {
          "output_type": "stream",
          "name": "stdout",
          "text": [
            "Enter the First number: 2\n",
            "8\n"
          ]
        }
      ]
    },
    {
      "cell_type": "code",
      "source": [
        "# the cube Value of Your number is:\n",
        "print(a1**3)"
      ],
      "metadata": {
        "colab": {
          "base_uri": "https://localhost:8080/"
        },
        "id": "NmDGcNgK1e99",
        "outputId": "29b859e6-ce4e-49a9-faba-cd94eea135a6"
      },
      "execution_count": 26,
      "outputs": [
        {
          "output_type": "stream",
          "name": "stdout",
          "text": [
            "8\n"
          ]
        }
      ]
    },
    {
      "cell_type": "code",
      "source": [],
      "metadata": {
        "id": "IMt9elXS1uA_"
      },
      "execution_count": 27,
      "outputs": []
    },
    {
      "cell_type": "code",
      "source": [],
      "metadata": {
        "id": "a0zphW2N471s"
      },
      "execution_count": null,
      "outputs": []
    }
  ]
}