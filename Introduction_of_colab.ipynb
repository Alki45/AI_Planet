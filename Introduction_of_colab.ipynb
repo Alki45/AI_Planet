{
  "nbformat": 4,
  "nbformat_minor": 0,
  "metadata": {
    "colab": {
      "provenance": [],
      "gpuType": "T4",
      "authorship_tag": "ABX9TyP4vVruHs0Cb7lFccgNdxUV",
      "include_colab_link": true
    },
    "kernelspec": {
      "name": "python3",
      "display_name": "Python 3"
    },
    "language_info": {
      "name": "python"
    },
    "accelerator": "GPU"
  },
  "cells": [
    {
      "cell_type": "markdown",
      "metadata": {
        "id": "view-in-github",
        "colab_type": "text"
      },
      "source": [
        "<a href=\"https://colab.research.google.com/github/Alki45/AI_Planet/blob/Intro_to_colab/Introduction_of_colab.ipynb\" target=\"_parent\"><img src=\"https://colab.research.google.com/assets/colab-badge.svg\" alt=\"Open In Colab\"/></a>"
      ]
    },
    {
      "cell_type": "code",
      "source": [
        "# Introduction of Python With Googlecolab"
      ],
      "metadata": {
        "id": "sW9sTVxeqrjR"
      },
      "execution_count": 5,
      "outputs": []
    },
    {
      "cell_type": "code",
      "execution_count": 6,
      "metadata": {
        "id": "hUnE0g2qpRnI"
      },
      "outputs": [],
      "source": [
        "x=5"
      ]
    },
    {
      "cell_type": "code",
      "source": [
        "y=6\n"
      ],
      "metadata": {
        "id": "x5fF3ip9pWwK"
      },
      "execution_count": 7,
      "outputs": []
    },
    {
      "cell_type": "code",
      "source": [
        "z=x*y"
      ],
      "metadata": {
        "id": "Wwu6F2MSpX_R"
      },
      "execution_count": 8,
      "outputs": []
    },
    {
      "cell_type": "code",
      "source": [
        "print(z)"
      ],
      "metadata": {
        "colab": {
          "base_uri": "https://localhost:8080/"
        },
        "id": "ixLKglObpaR9",
        "outputId": "8102a001-578d-40e4-bf6c-9c779636c1a1"
      },
      "execution_count": 9,
      "outputs": [
        {
          "output_type": "stream",
          "name": "stdout",
          "text": [
            "30\n"
          ]
        }
      ]
    },
    {
      "cell_type": "code",
      "source": [
        "print(\"Here You Get it\")"
      ],
      "metadata": {
        "colab": {
          "base_uri": "https://localhost:8080/"
        },
        "id": "dbfhSkG9pjpz",
        "outputId": "242145fe-cbdd-49f2-9e9f-4ee962f25ea0"
      },
      "execution_count": 10,
      "outputs": [
        {
          "output_type": "stream",
          "name": "stdout",
          "text": [
            "Here You Get it\n"
          ]
        }
      ]
    },
    {
      "cell_type": "code",
      "source": [
        "print(\"Hello, DPhi! Today I have executed my very first Python program In AI Planet courses. Thanks!\")"
      ],
      "metadata": {
        "id": "ebLQdr-ip3yE",
        "colab": {
          "base_uri": "https://localhost:8080/"
        },
        "outputId": "7c054ece-ffbc-43fc-f876-5167a6e2ed77"
      },
      "execution_count": 12,
      "outputs": [
        {
          "output_type": "stream",
          "name": "stdout",
          "text": [
            "Hello, DPhi! Today I have executed my very first Python program In AI Planet courses. Thanks!\n"
          ]
        }
      ]
    },
    {
      "cell_type": "code",
      "source": [],
      "metadata": {
        "id": "jMP8AKAlrw9L"
      },
      "execution_count": null,
      "outputs": []
    }
  ]
}